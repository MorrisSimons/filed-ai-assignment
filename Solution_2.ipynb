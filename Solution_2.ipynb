{
 "cells": [
  {
   "cell_type": "markdown",
   "id": "6271ebfe",
   "metadata": {},
   "source": [
    "# Process\n",
    "\n",
    "\n",
    "**Do** some test what data can we get with tools like fitz."
   ]
  },
  {
   "cell_type": "code",
   "execution_count": null,
   "id": "93d97334",
   "metadata": {
    "vscode": {
     "languageId": "plaintext"
    }
   },
   "outputs": [],
   "source": []
  }
 ],
 "metadata": {
  "language_info": {
   "name": "python"
  }
 },
 "nbformat": 4,
 "nbformat_minor": 5
}
